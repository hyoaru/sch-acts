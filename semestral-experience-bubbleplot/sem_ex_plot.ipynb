{
 "cells": [
  {
   "cell_type": "markdown",
   "metadata": {},
   "source": [
    "# How the second semester went for me: Visualized"
   ]
  },
  {
   "cell_type": "markdown",
   "metadata": {},
   "source": [
    "## Initialization"
   ]
  },
  {
   "cell_type": "markdown",
   "metadata": {},
   "source": [
    "### Importing libraries"
   ]
  },
  {
   "cell_type": "code",
   "execution_count": 1,
   "metadata": {},
   "outputs": [
    {
     "data": {
      "text/html": [
       "        <script type=\"text/javascript\">\n",
       "        window.PlotlyConfig = {MathJaxConfig: 'local'};\n",
       "        if (window.MathJax) {MathJax.Hub.Config({SVG: {font: \"STIX-Web\"}});}\n",
       "        if (typeof require !== 'undefined') {\n",
       "        require.undef(\"plotly\");\n",
       "        requirejs.config({\n",
       "            paths: {\n",
       "                'plotly': ['https://cdn.plot.ly/plotly-2.9.0.min']\n",
       "            }\n",
       "        });\n",
       "        require(['plotly'], function(Plotly) {\n",
       "            window._Plotly = Plotly;\n",
       "        });\n",
       "        }\n",
       "        </script>\n",
       "        "
      ]
     },
     "metadata": {},
     "output_type": "display_data"
    },
    {
     "data": {
      "text/html": [
       "        <script type=\"text/javascript\">\n",
       "        window.PlotlyConfig = {MathJaxConfig: 'local'};\n",
       "        if (window.MathJax) {MathJax.Hub.Config({SVG: {font: \"STIX-Web\"}});}\n",
       "        if (typeof require !== 'undefined') {\n",
       "        require.undef(\"plotly\");\n",
       "        requirejs.config({\n",
       "            paths: {\n",
       "                'plotly': ['https://cdn.plot.ly/plotly-2.9.0.min']\n",
       "            }\n",
       "        });\n",
       "        require(['plotly'], function(Plotly) {\n",
       "            window._Plotly = Plotly;\n",
       "        });\n",
       "        }\n",
       "        </script>\n",
       "        "
      ]
     },
     "metadata": {},
     "output_type": "display_data"
    }
   ],
   "source": [
    "import pandas as pd\n",
    "import numpy as np\n",
    "import cufflinks as cf\n",
    "import chart_studio.plotly as py\n",
    "import plotly.express as px\n",
    "import plotly.graph_objects as go\n",
    "from plotly.offline import download_plotlyjs, init_notebook_mode, plot, iplot\n",
    "\n",
    "init_notebook_mode(connected=True)\n",
    "cf.go_offline()"
   ]
  },
  {
   "cell_type": "markdown",
   "metadata": {},
   "source": [
    "### Assigning dataframe"
   ]
  },
  {
   "cell_type": "code",
   "execution_count": 239,
   "metadata": {},
   "outputs": [
    {
     "data": {
      "text/html": [
       "<div>\n",
       "<style scoped>\n",
       "    .dataframe tbody tr th:only-of-type {\n",
       "        vertical-align: middle;\n",
       "    }\n",
       "\n",
       "    .dataframe tbody tr th {\n",
       "        vertical-align: top;\n",
       "    }\n",
       "\n",
       "    .dataframe thead th {\n",
       "        text-align: right;\n",
       "    }\n",
       "</style>\n",
       "<table border=\"1\" class=\"dataframe\">\n",
       "  <thead>\n",
       "    <tr style=\"text-align: right;\">\n",
       "      <th></th>\n",
       "      <th>period</th>\n",
       "      <th>emotional_degree</th>\n",
       "      <th>emotional_response</th>\n",
       "      <th>assignment</th>\n",
       "    </tr>\n",
       "  </thead>\n",
       "  <tbody>\n",
       "    <tr>\n",
       "      <th>0</th>\n",
       "      <td>0</td>\n",
       "      <td>10</td>\n",
       "      <td>Amusement</td>\n",
       "      <td>10</td>\n",
       "    </tr>\n",
       "    <tr>\n",
       "      <th>1</th>\n",
       "      <td>0</td>\n",
       "      <td>3</td>\n",
       "      <td>Stress</td>\n",
       "      <td>10</td>\n",
       "    </tr>\n",
       "    <tr>\n",
       "      <th>2</th>\n",
       "      <td>0</td>\n",
       "      <td>8</td>\n",
       "      <td>Productivity</td>\n",
       "      <td>10</td>\n",
       "    </tr>\n",
       "    <tr>\n",
       "      <th>3</th>\n",
       "      <td>1</td>\n",
       "      <td>4</td>\n",
       "      <td>Amusement</td>\n",
       "      <td>13</td>\n",
       "    </tr>\n",
       "    <tr>\n",
       "      <th>4</th>\n",
       "      <td>1</td>\n",
       "      <td>9</td>\n",
       "      <td>Stress</td>\n",
       "      <td>13</td>\n",
       "    </tr>\n",
       "    <tr>\n",
       "      <th>5</th>\n",
       "      <td>1</td>\n",
       "      <td>8</td>\n",
       "      <td>Productivity</td>\n",
       "      <td>13</td>\n",
       "    </tr>\n",
       "    <tr>\n",
       "      <th>6</th>\n",
       "      <td>2</td>\n",
       "      <td>1</td>\n",
       "      <td>Amusement</td>\n",
       "      <td>24</td>\n",
       "    </tr>\n",
       "    <tr>\n",
       "      <th>7</th>\n",
       "      <td>2</td>\n",
       "      <td>10</td>\n",
       "      <td>Stress</td>\n",
       "      <td>24</td>\n",
       "    </tr>\n",
       "    <tr>\n",
       "      <th>8</th>\n",
       "      <td>2</td>\n",
       "      <td>9</td>\n",
       "      <td>Productivity</td>\n",
       "      <td>24</td>\n",
       "    </tr>\n",
       "    <tr>\n",
       "      <th>9</th>\n",
       "      <td>3</td>\n",
       "      <td>6</td>\n",
       "      <td>Amusement</td>\n",
       "      <td>8</td>\n",
       "    </tr>\n",
       "    <tr>\n",
       "      <th>10</th>\n",
       "      <td>3</td>\n",
       "      <td>3</td>\n",
       "      <td>Stress</td>\n",
       "      <td>8</td>\n",
       "    </tr>\n",
       "    <tr>\n",
       "      <th>11</th>\n",
       "      <td>3</td>\n",
       "      <td>5</td>\n",
       "      <td>Productivity</td>\n",
       "      <td>8</td>\n",
       "    </tr>\n",
       "    <tr>\n",
       "      <th>12</th>\n",
       "      <td>4</td>\n",
       "      <td>7</td>\n",
       "      <td>Amusement</td>\n",
       "      <td>6</td>\n",
       "    </tr>\n",
       "    <tr>\n",
       "      <th>13</th>\n",
       "      <td>4</td>\n",
       "      <td>1</td>\n",
       "      <td>Stress</td>\n",
       "      <td>6</td>\n",
       "    </tr>\n",
       "    <tr>\n",
       "      <th>14</th>\n",
       "      <td>4</td>\n",
       "      <td>4</td>\n",
       "      <td>Productivity</td>\n",
       "      <td>6</td>\n",
       "    </tr>\n",
       "    <tr>\n",
       "      <th>15</th>\n",
       "      <td>5</td>\n",
       "      <td>7</td>\n",
       "      <td>Amusement</td>\n",
       "      <td>12</td>\n",
       "    </tr>\n",
       "    <tr>\n",
       "      <th>16</th>\n",
       "      <td>5</td>\n",
       "      <td>4</td>\n",
       "      <td>Stress</td>\n",
       "      <td>12</td>\n",
       "    </tr>\n",
       "    <tr>\n",
       "      <th>17</th>\n",
       "      <td>5</td>\n",
       "      <td>8</td>\n",
       "      <td>Productivity</td>\n",
       "      <td>12</td>\n",
       "    </tr>\n",
       "    <tr>\n",
       "      <th>18</th>\n",
       "      <td>6</td>\n",
       "      <td>8</td>\n",
       "      <td>Amusement</td>\n",
       "      <td>14</td>\n",
       "    </tr>\n",
       "    <tr>\n",
       "      <th>19</th>\n",
       "      <td>6</td>\n",
       "      <td>7</td>\n",
       "      <td>Stress</td>\n",
       "      <td>14</td>\n",
       "    </tr>\n",
       "    <tr>\n",
       "      <th>20</th>\n",
       "      <td>6</td>\n",
       "      <td>6</td>\n",
       "      <td>Productivity</td>\n",
       "      <td>14</td>\n",
       "    </tr>\n",
       "    <tr>\n",
       "      <th>21</th>\n",
       "      <td>7</td>\n",
       "      <td>6</td>\n",
       "      <td>Amusement</td>\n",
       "      <td>8</td>\n",
       "    </tr>\n",
       "    <tr>\n",
       "      <th>22</th>\n",
       "      <td>7</td>\n",
       "      <td>8</td>\n",
       "      <td>Stress</td>\n",
       "      <td>8</td>\n",
       "    </tr>\n",
       "    <tr>\n",
       "      <th>23</th>\n",
       "      <td>7</td>\n",
       "      <td>10</td>\n",
       "      <td>Productivity</td>\n",
       "      <td>8</td>\n",
       "    </tr>\n",
       "    <tr>\n",
       "      <th>24</th>\n",
       "      <td>8</td>\n",
       "      <td>4</td>\n",
       "      <td>Amusement</td>\n",
       "      <td>10</td>\n",
       "    </tr>\n",
       "    <tr>\n",
       "      <th>25</th>\n",
       "      <td>8</td>\n",
       "      <td>8</td>\n",
       "      <td>Stress</td>\n",
       "      <td>10</td>\n",
       "    </tr>\n",
       "    <tr>\n",
       "      <th>26</th>\n",
       "      <td>8</td>\n",
       "      <td>6</td>\n",
       "      <td>Productivity</td>\n",
       "      <td>10</td>\n",
       "    </tr>\n",
       "  </tbody>\n",
       "</table>\n",
       "</div>"
      ],
      "text/plain": [
       "    period  emotional_degree emotional_response  assignment\n",
       "0        0                10          Amusement          10\n",
       "1        0                 3             Stress          10\n",
       "2        0                 8       Productivity          10\n",
       "3        1                 4          Amusement          13\n",
       "4        1                 9             Stress          13\n",
       "5        1                 8       Productivity          13\n",
       "6        2                 1          Amusement          24\n",
       "7        2                10             Stress          24\n",
       "8        2                 9       Productivity          24\n",
       "9        3                 6          Amusement           8\n",
       "10       3                 3             Stress           8\n",
       "11       3                 5       Productivity           8\n",
       "12       4                 7          Amusement           6\n",
       "13       4                 1             Stress           6\n",
       "14       4                 4       Productivity           6\n",
       "15       5                 7          Amusement          12\n",
       "16       5                 4             Stress          12\n",
       "17       5                 8       Productivity          12\n",
       "18       6                 8          Amusement          14\n",
       "19       6                 7             Stress          14\n",
       "20       6                 6       Productivity          14\n",
       "21       7                 6          Amusement           8\n",
       "22       7                 8             Stress           8\n",
       "23       7                10       Productivity           8\n",
       "24       8                 4          Amusement          10\n",
       "25       8                 8             Stress          10\n",
       "26       8                 6       Productivity          10"
      ]
     },
     "execution_count": 239,
     "metadata": {},
     "output_type": "execute_result"
    }
   ],
   "source": [
    "emotional_responses = ['Amusement', 'Stress', 'Productivity']\n",
    "periods = sorted([x for x in range(len(emotional_responses)**2)]*len(emotional_responses))\n",
    "assignment = [10, 13 ,24, 8, 6, 12, 14, 8, 10]\n",
    "\n",
    "df = pd.DataFrame(dict(\n",
    "    period = periods,\n",
    "    emotional_degree = [10,3,8,4,9,8,1,10,9,6,3,5,7,1,4,7,4,8,8,7,6,6,8,10,4,8,6],\n",
    "    emotional_response = [z for x in range(len(emotional_responses)) for z in range(len(emotional_responses)) for z in emotional_responses],\n",
    "    assignment = [x for x in assignment for y in range(len(emotional_responses))],\n",
    "))\n",
    "\n",
    "df.to_csv(r'data/sem_ex.csv')\n",
    "\n",
    "df"
   ]
  },
  {
   "cell_type": "markdown",
   "metadata": {},
   "source": [
    "## Visualization"
   ]
  },
  {
   "cell_type": "code",
   "execution_count": 314,
   "metadata": {},
   "outputs": [
    {
     "data": {
      "application/vnd.plotly.v1+json": {
       "config": {
        "plotlyServerURL": "https://plot.ly"
       },
       "data": [
        {
         "customdata": [
          [
           "Amusement",
           10
          ]
         ],
         "hovertemplate": "emotional_response=Amusement<br>period=%{x}<br>emotional_degree=%{y}<br>assignment=%{marker.size}<extra></extra>",
         "legendgroup": "Amusement",
         "marker": {
          "color": "#636efa",
          "size": [
           10
          ],
          "sizemode": "area",
          "sizeref": 0.011851851851851851,
          "symbol": "circle"
         },
         "mode": "markers",
         "name": "Amusement",
         "orientation": "v",
         "showlegend": true,
         "type": "scatter",
         "x": [
          0
         ],
         "xaxis": "x",
         "y": [
          10
         ],
         "yaxis": "y"
        },
        {
         "customdata": [
          [
           "Stress",
           10
          ]
         ],
         "hovertemplate": "emotional_response=Stress<br>period=%{x}<br>emotional_degree=%{y}<br>assignment=%{marker.size}<extra></extra>",
         "legendgroup": "Stress",
         "marker": {
          "color": "#EF553B",
          "size": [
           10
          ],
          "sizemode": "area",
          "sizeref": 0.011851851851851851,
          "symbol": "circle"
         },
         "mode": "markers",
         "name": "Stress",
         "orientation": "v",
         "showlegend": true,
         "type": "scatter",
         "x": [
          0
         ],
         "xaxis": "x",
         "y": [
          3
         ],
         "yaxis": "y"
        },
        {
         "customdata": [
          [
           "Productivity",
           10
          ]
         ],
         "hovertemplate": "emotional_response=Productivity<br>period=%{x}<br>emotional_degree=%{y}<br>assignment=%{marker.size}<extra></extra>",
         "legendgroup": "Productivity",
         "marker": {
          "color": "#00cc96",
          "size": [
           10
          ],
          "sizemode": "area",
          "sizeref": 0.011851851851851851,
          "symbol": "circle"
         },
         "mode": "markers",
         "name": "Productivity",
         "orientation": "v",
         "showlegend": true,
         "type": "scatter",
         "x": [
          0
         ],
         "xaxis": "x",
         "y": [
          8
         ],
         "yaxis": "y"
        }
       ],
       "frames": [
        {
         "data": [
          {
           "customdata": [
            [
             "Amusement",
             10
            ]
           ],
           "hovertemplate": "emotional_response=Amusement<br>period=%{x}<br>emotional_degree=%{y}<br>assignment=%{marker.size}<extra></extra>",
           "legendgroup": "Amusement",
           "marker": {
            "color": "#636efa",
            "size": [
             10
            ],
            "sizemode": "area",
            "sizeref": 0.011851851851851851,
            "symbol": "circle"
           },
           "mode": "markers",
           "name": "Amusement",
           "orientation": "v",
           "showlegend": true,
           "type": "scatter",
           "x": [
            0
           ],
           "xaxis": "x",
           "y": [
            10
           ],
           "yaxis": "y"
          },
          {
           "customdata": [
            [
             "Stress",
             10
            ]
           ],
           "hovertemplate": "emotional_response=Stress<br>period=%{x}<br>emotional_degree=%{y}<br>assignment=%{marker.size}<extra></extra>",
           "legendgroup": "Stress",
           "marker": {
            "color": "#EF553B",
            "size": [
             10
            ],
            "sizemode": "area",
            "sizeref": 0.011851851851851851,
            "symbol": "circle"
           },
           "mode": "markers",
           "name": "Stress",
           "orientation": "v",
           "showlegend": true,
           "type": "scatter",
           "x": [
            0
           ],
           "xaxis": "x",
           "y": [
            3
           ],
           "yaxis": "y"
          },
          {
           "customdata": [
            [
             "Productivity",
             10
            ]
           ],
           "hovertemplate": "emotional_response=Productivity<br>period=%{x}<br>emotional_degree=%{y}<br>assignment=%{marker.size}<extra></extra>",
           "legendgroup": "Productivity",
           "marker": {
            "color": "#00cc96",
            "size": [
             10
            ],
            "sizemode": "area",
            "sizeref": 0.011851851851851851,
            "symbol": "circle"
           },
           "mode": "markers",
           "name": "Productivity",
           "orientation": "v",
           "showlegend": true,
           "type": "scatter",
           "x": [
            0
           ],
           "xaxis": "x",
           "y": [
            8
           ],
           "yaxis": "y"
          }
         ],
         "name": "0"
        },
        {
         "data": [
          {
           "customdata": [
            [
             "Amusement",
             13
            ]
           ],
           "hovertemplate": "emotional_response=Amusement<br>period=%{x}<br>emotional_degree=%{y}<br>assignment=%{marker.size}<extra></extra>",
           "legendgroup": "Amusement",
           "marker": {
            "color": "#636efa",
            "size": [
             13
            ],
            "sizemode": "area",
            "sizeref": 0.011851851851851851,
            "symbol": "circle"
           },
           "mode": "markers",
           "name": "Amusement",
           "orientation": "v",
           "showlegend": true,
           "type": "scatter",
           "x": [
            1
           ],
           "xaxis": "x",
           "y": [
            4
           ],
           "yaxis": "y"
          },
          {
           "customdata": [
            [
             "Stress",
             13
            ]
           ],
           "hovertemplate": "emotional_response=Stress<br>period=%{x}<br>emotional_degree=%{y}<br>assignment=%{marker.size}<extra></extra>",
           "legendgroup": "Stress",
           "marker": {
            "color": "#EF553B",
            "size": [
             13
            ],
            "sizemode": "area",
            "sizeref": 0.011851851851851851,
            "symbol": "circle"
           },
           "mode": "markers",
           "name": "Stress",
           "orientation": "v",
           "showlegend": true,
           "type": "scatter",
           "x": [
            1
           ],
           "xaxis": "x",
           "y": [
            9
           ],
           "yaxis": "y"
          },
          {
           "customdata": [
            [
             "Productivity",
             13
            ]
           ],
           "hovertemplate": "emotional_response=Productivity<br>period=%{x}<br>emotional_degree=%{y}<br>assignment=%{marker.size}<extra></extra>",
           "legendgroup": "Productivity",
           "marker": {
            "color": "#00cc96",
            "size": [
             13
            ],
            "sizemode": "area",
            "sizeref": 0.011851851851851851,
            "symbol": "circle"
           },
           "mode": "markers",
           "name": "Productivity",
           "orientation": "v",
           "showlegend": true,
           "type": "scatter",
           "x": [
            1
           ],
           "xaxis": "x",
           "y": [
            8
           ],
           "yaxis": "y"
          }
         ],
         "name": "1"
        },
        {
         "data": [
          {
           "customdata": [
            [
             "Amusement",
             24
            ]
           ],
           "hovertemplate": "emotional_response=Amusement<br>period=%{x}<br>emotional_degree=%{y}<br>assignment=%{marker.size}<extra></extra>",
           "legendgroup": "Amusement",
           "marker": {
            "color": "#636efa",
            "size": [
             24
            ],
            "sizemode": "area",
            "sizeref": 0.011851851851851851,
            "symbol": "circle"
           },
           "mode": "markers",
           "name": "Amusement",
           "orientation": "v",
           "showlegend": true,
           "type": "scatter",
           "x": [
            2
           ],
           "xaxis": "x",
           "y": [
            1
           ],
           "yaxis": "y"
          },
          {
           "customdata": [
            [
             "Stress",
             24
            ]
           ],
           "hovertemplate": "emotional_response=Stress<br>period=%{x}<br>emotional_degree=%{y}<br>assignment=%{marker.size}<extra></extra>",
           "legendgroup": "Stress",
           "marker": {
            "color": "#EF553B",
            "size": [
             24
            ],
            "sizemode": "area",
            "sizeref": 0.011851851851851851,
            "symbol": "circle"
           },
           "mode": "markers",
           "name": "Stress",
           "orientation": "v",
           "showlegend": true,
           "type": "scatter",
           "x": [
            2
           ],
           "xaxis": "x",
           "y": [
            10
           ],
           "yaxis": "y"
          },
          {
           "customdata": [
            [
             "Productivity",
             24
            ]
           ],
           "hovertemplate": "emotional_response=Productivity<br>period=%{x}<br>emotional_degree=%{y}<br>assignment=%{marker.size}<extra></extra>",
           "legendgroup": "Productivity",
           "marker": {
            "color": "#00cc96",
            "size": [
             24
            ],
            "sizemode": "area",
            "sizeref": 0.011851851851851851,
            "symbol": "circle"
           },
           "mode": "markers",
           "name": "Productivity",
           "orientation": "v",
           "showlegend": true,
           "type": "scatter",
           "x": [
            2
           ],
           "xaxis": "x",
           "y": [
            9
           ],
           "yaxis": "y"
          }
         ],
         "name": "2"
        },
        {
         "data": [
          {
           "customdata": [
            [
             "Amusement",
             8
            ]
           ],
           "hovertemplate": "emotional_response=Amusement<br>period=%{x}<br>emotional_degree=%{y}<br>assignment=%{marker.size}<extra></extra>",
           "legendgroup": "Amusement",
           "marker": {
            "color": "#636efa",
            "size": [
             8
            ],
            "sizemode": "area",
            "sizeref": 0.011851851851851851,
            "symbol": "circle"
           },
           "mode": "markers",
           "name": "Amusement",
           "orientation": "v",
           "showlegend": true,
           "type": "scatter",
           "x": [
            3
           ],
           "xaxis": "x",
           "y": [
            6
           ],
           "yaxis": "y"
          },
          {
           "customdata": [
            [
             "Stress",
             8
            ]
           ],
           "hovertemplate": "emotional_response=Stress<br>period=%{x}<br>emotional_degree=%{y}<br>assignment=%{marker.size}<extra></extra>",
           "legendgroup": "Stress",
           "marker": {
            "color": "#EF553B",
            "size": [
             8
            ],
            "sizemode": "area",
            "sizeref": 0.011851851851851851,
            "symbol": "circle"
           },
           "mode": "markers",
           "name": "Stress",
           "orientation": "v",
           "showlegend": true,
           "type": "scatter",
           "x": [
            3
           ],
           "xaxis": "x",
           "y": [
            3
           ],
           "yaxis": "y"
          },
          {
           "customdata": [
            [
             "Productivity",
             8
            ]
           ],
           "hovertemplate": "emotional_response=Productivity<br>period=%{x}<br>emotional_degree=%{y}<br>assignment=%{marker.size}<extra></extra>",
           "legendgroup": "Productivity",
           "marker": {
            "color": "#00cc96",
            "size": [
             8
            ],
            "sizemode": "area",
            "sizeref": 0.011851851851851851,
            "symbol": "circle"
           },
           "mode": "markers",
           "name": "Productivity",
           "orientation": "v",
           "showlegend": true,
           "type": "scatter",
           "x": [
            3
           ],
           "xaxis": "x",
           "y": [
            5
           ],
           "yaxis": "y"
          }
         ],
         "name": "3"
        },
        {
         "data": [
          {
           "customdata": [
            [
             "Amusement",
             6
            ]
           ],
           "hovertemplate": "emotional_response=Amusement<br>period=%{x}<br>emotional_degree=%{y}<br>assignment=%{marker.size}<extra></extra>",
           "legendgroup": "Amusement",
           "marker": {
            "color": "#636efa",
            "size": [
             6
            ],
            "sizemode": "area",
            "sizeref": 0.011851851851851851,
            "symbol": "circle"
           },
           "mode": "markers",
           "name": "Amusement",
           "orientation": "v",
           "showlegend": true,
           "type": "scatter",
           "x": [
            4
           ],
           "xaxis": "x",
           "y": [
            7
           ],
           "yaxis": "y"
          },
          {
           "customdata": [
            [
             "Stress",
             6
            ]
           ],
           "hovertemplate": "emotional_response=Stress<br>period=%{x}<br>emotional_degree=%{y}<br>assignment=%{marker.size}<extra></extra>",
           "legendgroup": "Stress",
           "marker": {
            "color": "#EF553B",
            "size": [
             6
            ],
            "sizemode": "area",
            "sizeref": 0.011851851851851851,
            "symbol": "circle"
           },
           "mode": "markers",
           "name": "Stress",
           "orientation": "v",
           "showlegend": true,
           "type": "scatter",
           "x": [
            4
           ],
           "xaxis": "x",
           "y": [
            1
           ],
           "yaxis": "y"
          },
          {
           "customdata": [
            [
             "Productivity",
             6
            ]
           ],
           "hovertemplate": "emotional_response=Productivity<br>period=%{x}<br>emotional_degree=%{y}<br>assignment=%{marker.size}<extra></extra>",
           "legendgroup": "Productivity",
           "marker": {
            "color": "#00cc96",
            "size": [
             6
            ],
            "sizemode": "area",
            "sizeref": 0.011851851851851851,
            "symbol": "circle"
           },
           "mode": "markers",
           "name": "Productivity",
           "orientation": "v",
           "showlegend": true,
           "type": "scatter",
           "x": [
            4
           ],
           "xaxis": "x",
           "y": [
            4
           ],
           "yaxis": "y"
          }
         ],
         "name": "4"
        },
        {
         "data": [
          {
           "customdata": [
            [
             "Amusement",
             12
            ]
           ],
           "hovertemplate": "emotional_response=Amusement<br>period=%{x}<br>emotional_degree=%{y}<br>assignment=%{marker.size}<extra></extra>",
           "legendgroup": "Amusement",
           "marker": {
            "color": "#636efa",
            "size": [
             12
            ],
            "sizemode": "area",
            "sizeref": 0.011851851851851851,
            "symbol": "circle"
           },
           "mode": "markers",
           "name": "Amusement",
           "orientation": "v",
           "showlegend": true,
           "type": "scatter",
           "x": [
            5
           ],
           "xaxis": "x",
           "y": [
            7
           ],
           "yaxis": "y"
          },
          {
           "customdata": [
            [
             "Stress",
             12
            ]
           ],
           "hovertemplate": "emotional_response=Stress<br>period=%{x}<br>emotional_degree=%{y}<br>assignment=%{marker.size}<extra></extra>",
           "legendgroup": "Stress",
           "marker": {
            "color": "#EF553B",
            "size": [
             12
            ],
            "sizemode": "area",
            "sizeref": 0.011851851851851851,
            "symbol": "circle"
           },
           "mode": "markers",
           "name": "Stress",
           "orientation": "v",
           "showlegend": true,
           "type": "scatter",
           "x": [
            5
           ],
           "xaxis": "x",
           "y": [
            4
           ],
           "yaxis": "y"
          },
          {
           "customdata": [
            [
             "Productivity",
             12
            ]
           ],
           "hovertemplate": "emotional_response=Productivity<br>period=%{x}<br>emotional_degree=%{y}<br>assignment=%{marker.size}<extra></extra>",
           "legendgroup": "Productivity",
           "marker": {
            "color": "#00cc96",
            "size": [
             12
            ],
            "sizemode": "area",
            "sizeref": 0.011851851851851851,
            "symbol": "circle"
           },
           "mode": "markers",
           "name": "Productivity",
           "orientation": "v",
           "showlegend": true,
           "type": "scatter",
           "x": [
            5
           ],
           "xaxis": "x",
           "y": [
            8
           ],
           "yaxis": "y"
          }
         ],
         "name": "5"
        },
        {
         "data": [
          {
           "customdata": [
            [
             "Amusement",
             14
            ]
           ],
           "hovertemplate": "emotional_response=Amusement<br>period=%{x}<br>emotional_degree=%{y}<br>assignment=%{marker.size}<extra></extra>",
           "legendgroup": "Amusement",
           "marker": {
            "color": "#636efa",
            "size": [
             14
            ],
            "sizemode": "area",
            "sizeref": 0.011851851851851851,
            "symbol": "circle"
           },
           "mode": "markers",
           "name": "Amusement",
           "orientation": "v",
           "showlegend": true,
           "type": "scatter",
           "x": [
            6
           ],
           "xaxis": "x",
           "y": [
            8
           ],
           "yaxis": "y"
          },
          {
           "customdata": [
            [
             "Stress",
             14
            ]
           ],
           "hovertemplate": "emotional_response=Stress<br>period=%{x}<br>emotional_degree=%{y}<br>assignment=%{marker.size}<extra></extra>",
           "legendgroup": "Stress",
           "marker": {
            "color": "#EF553B",
            "size": [
             14
            ],
            "sizemode": "area",
            "sizeref": 0.011851851851851851,
            "symbol": "circle"
           },
           "mode": "markers",
           "name": "Stress",
           "orientation": "v",
           "showlegend": true,
           "type": "scatter",
           "x": [
            6
           ],
           "xaxis": "x",
           "y": [
            7
           ],
           "yaxis": "y"
          },
          {
           "customdata": [
            [
             "Productivity",
             14
            ]
           ],
           "hovertemplate": "emotional_response=Productivity<br>period=%{x}<br>emotional_degree=%{y}<br>assignment=%{marker.size}<extra></extra>",
           "legendgroup": "Productivity",
           "marker": {
            "color": "#00cc96",
            "size": [
             14
            ],
            "sizemode": "area",
            "sizeref": 0.011851851851851851,
            "symbol": "circle"
           },
           "mode": "markers",
           "name": "Productivity",
           "orientation": "v",
           "showlegend": true,
           "type": "scatter",
           "x": [
            6
           ],
           "xaxis": "x",
           "y": [
            6
           ],
           "yaxis": "y"
          }
         ],
         "name": "6"
        },
        {
         "data": [
          {
           "customdata": [
            [
             "Amusement",
             8
            ]
           ],
           "hovertemplate": "emotional_response=Amusement<br>period=%{x}<br>emotional_degree=%{y}<br>assignment=%{marker.size}<extra></extra>",
           "legendgroup": "Amusement",
           "marker": {
            "color": "#636efa",
            "size": [
             8
            ],
            "sizemode": "area",
            "sizeref": 0.011851851851851851,
            "symbol": "circle"
           },
           "mode": "markers",
           "name": "Amusement",
           "orientation": "v",
           "showlegend": true,
           "type": "scatter",
           "x": [
            7
           ],
           "xaxis": "x",
           "y": [
            6
           ],
           "yaxis": "y"
          },
          {
           "customdata": [
            [
             "Stress",
             8
            ]
           ],
           "hovertemplate": "emotional_response=Stress<br>period=%{x}<br>emotional_degree=%{y}<br>assignment=%{marker.size}<extra></extra>",
           "legendgroup": "Stress",
           "marker": {
            "color": "#EF553B",
            "size": [
             8
            ],
            "sizemode": "area",
            "sizeref": 0.011851851851851851,
            "symbol": "circle"
           },
           "mode": "markers",
           "name": "Stress",
           "orientation": "v",
           "showlegend": true,
           "type": "scatter",
           "x": [
            7
           ],
           "xaxis": "x",
           "y": [
            8
           ],
           "yaxis": "y"
          },
          {
           "customdata": [
            [
             "Productivity",
             8
            ]
           ],
           "hovertemplate": "emotional_response=Productivity<br>period=%{x}<br>emotional_degree=%{y}<br>assignment=%{marker.size}<extra></extra>",
           "legendgroup": "Productivity",
           "marker": {
            "color": "#00cc96",
            "size": [
             8
            ],
            "sizemode": "area",
            "sizeref": 0.011851851851851851,
            "symbol": "circle"
           },
           "mode": "markers",
           "name": "Productivity",
           "orientation": "v",
           "showlegend": true,
           "type": "scatter",
           "x": [
            7
           ],
           "xaxis": "x",
           "y": [
            10
           ],
           "yaxis": "y"
          }
         ],
         "name": "7"
        },
        {
         "data": [
          {
           "customdata": [
            [
             "Amusement",
             10
            ]
           ],
           "hovertemplate": "emotional_response=Amusement<br>period=%{x}<br>emotional_degree=%{y}<br>assignment=%{marker.size}<extra></extra>",
           "legendgroup": "Amusement",
           "marker": {
            "color": "#636efa",
            "size": [
             10
            ],
            "sizemode": "area",
            "sizeref": 0.011851851851851851,
            "symbol": "circle"
           },
           "mode": "markers",
           "name": "Amusement",
           "orientation": "v",
           "showlegend": true,
           "type": "scatter",
           "x": [
            8
           ],
           "xaxis": "x",
           "y": [
            4
           ],
           "yaxis": "y"
          },
          {
           "customdata": [
            [
             "Stress",
             10
            ]
           ],
           "hovertemplate": "emotional_response=Stress<br>period=%{x}<br>emotional_degree=%{y}<br>assignment=%{marker.size}<extra></extra>",
           "legendgroup": "Stress",
           "marker": {
            "color": "#EF553B",
            "size": [
             10
            ],
            "sizemode": "area",
            "sizeref": 0.011851851851851851,
            "symbol": "circle"
           },
           "mode": "markers",
           "name": "Stress",
           "orientation": "v",
           "showlegend": true,
           "type": "scatter",
           "x": [
            8
           ],
           "xaxis": "x",
           "y": [
            8
           ],
           "yaxis": "y"
          },
          {
           "customdata": [
            [
             "Productivity",
             10
            ]
           ],
           "hovertemplate": "emotional_response=Productivity<br>period=%{x}<br>emotional_degree=%{y}<br>assignment=%{marker.size}<extra></extra>",
           "legendgroup": "Productivity",
           "marker": {
            "color": "#00cc96",
            "size": [
             10
            ],
            "sizemode": "area",
            "sizeref": 0.011851851851851851,
            "symbol": "circle"
           },
           "mode": "markers",
           "name": "Productivity",
           "orientation": "v",
           "showlegend": true,
           "type": "scatter",
           "x": [
            8
           ],
           "xaxis": "x",
           "y": [
            6
           ],
           "yaxis": "y"
          }
         ],
         "name": "8"
        }
       ],
       "layout": {
        "legend": {
         "itemsizing": "constant",
         "orientation": "h",
         "title": {
          "text": "Emotional Response"
         },
         "tracegroupgap": 0,
         "x": 0.5,
         "xanchor": "center",
         "y": 1,
         "yanchor": "bottom"
        },
        "margin": {
         "t": 60
        },
        "sliders": [
         {
          "active": 0,
          "currentvalue": {
           "prefix": "period="
          },
          "len": 0.9,
          "pad": {
           "b": 10,
           "t": 60
          },
          "steps": [
           {
            "args": [
             [
              "0"
             ],
             {
              "frame": {
               "duration": 0,
               "redraw": false
              },
              "fromcurrent": true,
              "mode": "immediate",
              "transition": {
               "duration": 0,
               "easing": "linear"
              }
             }
            ],
            "label": "0",
            "method": "animate"
           },
           {
            "args": [
             [
              "1"
             ],
             {
              "frame": {
               "duration": 0,
               "redraw": false
              },
              "fromcurrent": true,
              "mode": "immediate",
              "transition": {
               "duration": 0,
               "easing": "linear"
              }
             }
            ],
            "label": "1",
            "method": "animate"
           },
           {
            "args": [
             [
              "2"
             ],
             {
              "frame": {
               "duration": 0,
               "redraw": false
              },
              "fromcurrent": true,
              "mode": "immediate",
              "transition": {
               "duration": 0,
               "easing": "linear"
              }
             }
            ],
            "label": "2",
            "method": "animate"
           },
           {
            "args": [
             [
              "3"
             ],
             {
              "frame": {
               "duration": 0,
               "redraw": false
              },
              "fromcurrent": true,
              "mode": "immediate",
              "transition": {
               "duration": 0,
               "easing": "linear"
              }
             }
            ],
            "label": "3",
            "method": "animate"
           },
           {
            "args": [
             [
              "4"
             ],
             {
              "frame": {
               "duration": 0,
               "redraw": false
              },
              "fromcurrent": true,
              "mode": "immediate",
              "transition": {
               "duration": 0,
               "easing": "linear"
              }
             }
            ],
            "label": "4",
            "method": "animate"
           },
           {
            "args": [
             [
              "5"
             ],
             {
              "frame": {
               "duration": 0,
               "redraw": false
              },
              "fromcurrent": true,
              "mode": "immediate",
              "transition": {
               "duration": 0,
               "easing": "linear"
              }
             }
            ],
            "label": "5",
            "method": "animate"
           },
           {
            "args": [
             [
              "6"
             ],
             {
              "frame": {
               "duration": 0,
               "redraw": false
              },
              "fromcurrent": true,
              "mode": "immediate",
              "transition": {
               "duration": 0,
               "easing": "linear"
              }
             }
            ],
            "label": "6",
            "method": "animate"
           },
           {
            "args": [
             [
              "7"
             ],
             {
              "frame": {
               "duration": 0,
               "redraw": false
              },
              "fromcurrent": true,
              "mode": "immediate",
              "transition": {
               "duration": 0,
               "easing": "linear"
              }
             }
            ],
            "label": "7",
            "method": "animate"
           },
           {
            "args": [
             [
              "8"
             ],
             {
              "frame": {
               "duration": 0,
               "redraw": false
              },
              "fromcurrent": true,
              "mode": "immediate",
              "transition": {
               "duration": 0,
               "easing": "linear"
              }
             }
            ],
            "label": "8",
            "method": "animate"
           }
          ],
          "x": 0.1,
          "xanchor": "left",
          "y": 0,
          "yanchor": "top"
         }
        ],
        "template": {
         "data": {
          "bar": [
           {
            "error_x": {
             "color": "#2a3f5f"
            },
            "error_y": {
             "color": "#2a3f5f"
            },
            "marker": {
             "line": {
              "color": "white",
              "width": 0.5
             },
             "pattern": {
              "fillmode": "overlay",
              "size": 10,
              "solidity": 0.2
             }
            },
            "type": "bar"
           }
          ],
          "barpolar": [
           {
            "marker": {
             "line": {
              "color": "white",
              "width": 0.5
             },
             "pattern": {
              "fillmode": "overlay",
              "size": 10,
              "solidity": 0.2
             }
            },
            "type": "barpolar"
           }
          ],
          "carpet": [
           {
            "aaxis": {
             "endlinecolor": "#2a3f5f",
             "gridcolor": "#C8D4E3",
             "linecolor": "#C8D4E3",
             "minorgridcolor": "#C8D4E3",
             "startlinecolor": "#2a3f5f"
            },
            "baxis": {
             "endlinecolor": "#2a3f5f",
             "gridcolor": "#C8D4E3",
             "linecolor": "#C8D4E3",
             "minorgridcolor": "#C8D4E3",
             "startlinecolor": "#2a3f5f"
            },
            "type": "carpet"
           }
          ],
          "choropleth": [
           {
            "colorbar": {
             "outlinewidth": 0,
             "ticks": ""
            },
            "type": "choropleth"
           }
          ],
          "contour": [
           {
            "colorbar": {
             "outlinewidth": 0,
             "ticks": ""
            },
            "colorscale": [
             [
              0,
              "#0d0887"
             ],
             [
              0.1111111111111111,
              "#46039f"
             ],
             [
              0.2222222222222222,
              "#7201a8"
             ],
             [
              0.3333333333333333,
              "#9c179e"
             ],
             [
              0.4444444444444444,
              "#bd3786"
             ],
             [
              0.5555555555555556,
              "#d8576b"
             ],
             [
              0.6666666666666666,
              "#ed7953"
             ],
             [
              0.7777777777777778,
              "#fb9f3a"
             ],
             [
              0.8888888888888888,
              "#fdca26"
             ],
             [
              1,
              "#f0f921"
             ]
            ],
            "type": "contour"
           }
          ],
          "contourcarpet": [
           {
            "colorbar": {
             "outlinewidth": 0,
             "ticks": ""
            },
            "type": "contourcarpet"
           }
          ],
          "heatmap": [
           {
            "colorbar": {
             "outlinewidth": 0,
             "ticks": ""
            },
            "colorscale": [
             [
              0,
              "#0d0887"
             ],
             [
              0.1111111111111111,
              "#46039f"
             ],
             [
              0.2222222222222222,
              "#7201a8"
             ],
             [
              0.3333333333333333,
              "#9c179e"
             ],
             [
              0.4444444444444444,
              "#bd3786"
             ],
             [
              0.5555555555555556,
              "#d8576b"
             ],
             [
              0.6666666666666666,
              "#ed7953"
             ],
             [
              0.7777777777777778,
              "#fb9f3a"
             ],
             [
              0.8888888888888888,
              "#fdca26"
             ],
             [
              1,
              "#f0f921"
             ]
            ],
            "type": "heatmap"
           }
          ],
          "heatmapgl": [
           {
            "colorbar": {
             "outlinewidth": 0,
             "ticks": ""
            },
            "colorscale": [
             [
              0,
              "#0d0887"
             ],
             [
              0.1111111111111111,
              "#46039f"
             ],
             [
              0.2222222222222222,
              "#7201a8"
             ],
             [
              0.3333333333333333,
              "#9c179e"
             ],
             [
              0.4444444444444444,
              "#bd3786"
             ],
             [
              0.5555555555555556,
              "#d8576b"
             ],
             [
              0.6666666666666666,
              "#ed7953"
             ],
             [
              0.7777777777777778,
              "#fb9f3a"
             ],
             [
              0.8888888888888888,
              "#fdca26"
             ],
             [
              1,
              "#f0f921"
             ]
            ],
            "type": "heatmapgl"
           }
          ],
          "histogram": [
           {
            "marker": {
             "pattern": {
              "fillmode": "overlay",
              "size": 10,
              "solidity": 0.2
             }
            },
            "type": "histogram"
           }
          ],
          "histogram2d": [
           {
            "colorbar": {
             "outlinewidth": 0,
             "ticks": ""
            },
            "colorscale": [
             [
              0,
              "#0d0887"
             ],
             [
              0.1111111111111111,
              "#46039f"
             ],
             [
              0.2222222222222222,
              "#7201a8"
             ],
             [
              0.3333333333333333,
              "#9c179e"
             ],
             [
              0.4444444444444444,
              "#bd3786"
             ],
             [
              0.5555555555555556,
              "#d8576b"
             ],
             [
              0.6666666666666666,
              "#ed7953"
             ],
             [
              0.7777777777777778,
              "#fb9f3a"
             ],
             [
              0.8888888888888888,
              "#fdca26"
             ],
             [
              1,
              "#f0f921"
             ]
            ],
            "type": "histogram2d"
           }
          ],
          "histogram2dcontour": [
           {
            "colorbar": {
             "outlinewidth": 0,
             "ticks": ""
            },
            "colorscale": [
             [
              0,
              "#0d0887"
             ],
             [
              0.1111111111111111,
              "#46039f"
             ],
             [
              0.2222222222222222,
              "#7201a8"
             ],
             [
              0.3333333333333333,
              "#9c179e"
             ],
             [
              0.4444444444444444,
              "#bd3786"
             ],
             [
              0.5555555555555556,
              "#d8576b"
             ],
             [
              0.6666666666666666,
              "#ed7953"
             ],
             [
              0.7777777777777778,
              "#fb9f3a"
             ],
             [
              0.8888888888888888,
              "#fdca26"
             ],
             [
              1,
              "#f0f921"
             ]
            ],
            "type": "histogram2dcontour"
           }
          ],
          "mesh3d": [
           {
            "colorbar": {
             "outlinewidth": 0,
             "ticks": ""
            },
            "type": "mesh3d"
           }
          ],
          "parcoords": [
           {
            "line": {
             "colorbar": {
              "outlinewidth": 0,
              "ticks": ""
             }
            },
            "type": "parcoords"
           }
          ],
          "pie": [
           {
            "automargin": true,
            "type": "pie"
           }
          ],
          "scatter": [
           {
            "marker": {
             "colorbar": {
              "outlinewidth": 0,
              "ticks": ""
             }
            },
            "type": "scatter"
           }
          ],
          "scatter3d": [
           {
            "line": {
             "colorbar": {
              "outlinewidth": 0,
              "ticks": ""
             }
            },
            "marker": {
             "colorbar": {
              "outlinewidth": 0,
              "ticks": ""
             }
            },
            "type": "scatter3d"
           }
          ],
          "scattercarpet": [
           {
            "marker": {
             "colorbar": {
              "outlinewidth": 0,
              "ticks": ""
             }
            },
            "type": "scattercarpet"
           }
          ],
          "scattergeo": [
           {
            "marker": {
             "colorbar": {
              "outlinewidth": 0,
              "ticks": ""
             }
            },
            "type": "scattergeo"
           }
          ],
          "scattergl": [
           {
            "marker": {
             "colorbar": {
              "outlinewidth": 0,
              "ticks": ""
             }
            },
            "type": "scattergl"
           }
          ],
          "scattermapbox": [
           {
            "marker": {
             "colorbar": {
              "outlinewidth": 0,
              "ticks": ""
             }
            },
            "type": "scattermapbox"
           }
          ],
          "scatterpolar": [
           {
            "marker": {
             "colorbar": {
              "outlinewidth": 0,
              "ticks": ""
             }
            },
            "type": "scatterpolar"
           }
          ],
          "scatterpolargl": [
           {
            "marker": {
             "colorbar": {
              "outlinewidth": 0,
              "ticks": ""
             }
            },
            "type": "scatterpolargl"
           }
          ],
          "scatterternary": [
           {
            "marker": {
             "colorbar": {
              "outlinewidth": 0,
              "ticks": ""
             }
            },
            "type": "scatterternary"
           }
          ],
          "surface": [
           {
            "colorbar": {
             "outlinewidth": 0,
             "ticks": ""
            },
            "colorscale": [
             [
              0,
              "#0d0887"
             ],
             [
              0.1111111111111111,
              "#46039f"
             ],
             [
              0.2222222222222222,
              "#7201a8"
             ],
             [
              0.3333333333333333,
              "#9c179e"
             ],
             [
              0.4444444444444444,
              "#bd3786"
             ],
             [
              0.5555555555555556,
              "#d8576b"
             ],
             [
              0.6666666666666666,
              "#ed7953"
             ],
             [
              0.7777777777777778,
              "#fb9f3a"
             ],
             [
              0.8888888888888888,
              "#fdca26"
             ],
             [
              1,
              "#f0f921"
             ]
            ],
            "type": "surface"
           }
          ],
          "table": [
           {
            "cells": {
             "fill": {
              "color": "#EBF0F8"
             },
             "line": {
              "color": "white"
             }
            },
            "header": {
             "fill": {
              "color": "#C8D4E3"
             },
             "line": {
              "color": "white"
             }
            },
            "type": "table"
           }
          ]
         },
         "layout": {
          "annotationdefaults": {
           "arrowcolor": "#2a3f5f",
           "arrowhead": 0,
           "arrowwidth": 1
          },
          "autotypenumbers": "strict",
          "coloraxis": {
           "colorbar": {
            "outlinewidth": 0,
            "ticks": ""
           }
          },
          "colorscale": {
           "diverging": [
            [
             0,
             "#8e0152"
            ],
            [
             0.1,
             "#c51b7d"
            ],
            [
             0.2,
             "#de77ae"
            ],
            [
             0.3,
             "#f1b6da"
            ],
            [
             0.4,
             "#fde0ef"
            ],
            [
             0.5,
             "#f7f7f7"
            ],
            [
             0.6,
             "#e6f5d0"
            ],
            [
             0.7,
             "#b8e186"
            ],
            [
             0.8,
             "#7fbc41"
            ],
            [
             0.9,
             "#4d9221"
            ],
            [
             1,
             "#276419"
            ]
           ],
           "sequential": [
            [
             0,
             "#0d0887"
            ],
            [
             0.1111111111111111,
             "#46039f"
            ],
            [
             0.2222222222222222,
             "#7201a8"
            ],
            [
             0.3333333333333333,
             "#9c179e"
            ],
            [
             0.4444444444444444,
             "#bd3786"
            ],
            [
             0.5555555555555556,
             "#d8576b"
            ],
            [
             0.6666666666666666,
             "#ed7953"
            ],
            [
             0.7777777777777778,
             "#fb9f3a"
            ],
            [
             0.8888888888888888,
             "#fdca26"
            ],
            [
             1,
             "#f0f921"
            ]
           ],
           "sequentialminus": [
            [
             0,
             "#0d0887"
            ],
            [
             0.1111111111111111,
             "#46039f"
            ],
            [
             0.2222222222222222,
             "#7201a8"
            ],
            [
             0.3333333333333333,
             "#9c179e"
            ],
            [
             0.4444444444444444,
             "#bd3786"
            ],
            [
             0.5555555555555556,
             "#d8576b"
            ],
            [
             0.6666666666666666,
             "#ed7953"
            ],
            [
             0.7777777777777778,
             "#fb9f3a"
            ],
            [
             0.8888888888888888,
             "#fdca26"
            ],
            [
             1,
             "#f0f921"
            ]
           ]
          },
          "colorway": [
           "#636efa",
           "#EF553B",
           "#00cc96",
           "#ab63fa",
           "#FFA15A",
           "#19d3f3",
           "#FF6692",
           "#B6E880",
           "#FF97FF",
           "#FECB52"
          ],
          "font": {
           "color": "#2a3f5f"
          },
          "geo": {
           "bgcolor": "white",
           "lakecolor": "white",
           "landcolor": "white",
           "showlakes": true,
           "showland": true,
           "subunitcolor": "#C8D4E3"
          },
          "hoverlabel": {
           "align": "left"
          },
          "hovermode": "closest",
          "mapbox": {
           "style": "light"
          },
          "paper_bgcolor": "white",
          "plot_bgcolor": "white",
          "polar": {
           "angularaxis": {
            "gridcolor": "#EBF0F8",
            "linecolor": "#EBF0F8",
            "ticks": ""
           },
           "bgcolor": "white",
           "radialaxis": {
            "gridcolor": "#EBF0F8",
            "linecolor": "#EBF0F8",
            "ticks": ""
           }
          },
          "scene": {
           "xaxis": {
            "backgroundcolor": "white",
            "gridcolor": "#DFE8F3",
            "gridwidth": 2,
            "linecolor": "#EBF0F8",
            "showbackground": true,
            "ticks": "",
            "zerolinecolor": "#EBF0F8"
           },
           "yaxis": {
            "backgroundcolor": "white",
            "gridcolor": "#DFE8F3",
            "gridwidth": 2,
            "linecolor": "#EBF0F8",
            "showbackground": true,
            "ticks": "",
            "zerolinecolor": "#EBF0F8"
           },
           "zaxis": {
            "backgroundcolor": "white",
            "gridcolor": "#DFE8F3",
            "gridwidth": 2,
            "linecolor": "#EBF0F8",
            "showbackground": true,
            "ticks": "",
            "zerolinecolor": "#EBF0F8"
           }
          },
          "shapedefaults": {
           "line": {
            "color": "#2a3f5f"
           }
          },
          "ternary": {
           "aaxis": {
            "gridcolor": "#DFE8F3",
            "linecolor": "#A2B1C6",
            "ticks": ""
           },
           "baxis": {
            "gridcolor": "#DFE8F3",
            "linecolor": "#A2B1C6",
            "ticks": ""
           },
           "bgcolor": "white",
           "caxis": {
            "gridcolor": "#DFE8F3",
            "linecolor": "#A2B1C6",
            "ticks": ""
           }
          },
          "title": {
           "x": 0.05
          },
          "xaxis": {
           "automargin": true,
           "gridcolor": "#EBF0F8",
           "linecolor": "#EBF0F8",
           "ticks": "",
           "title": {
            "standoff": 15
           },
           "zerolinecolor": "#EBF0F8",
           "zerolinewidth": 2
          },
          "yaxis": {
           "automargin": true,
           "gridcolor": "#EBF0F8",
           "linecolor": "#EBF0F8",
           "ticks": "",
           "title": {
            "standoff": 15
           },
           "zerolinecolor": "#EBF0F8",
           "zerolinewidth": 2
          }
         }
        },
        "updatemenus": [
         {
          "buttons": [
           {
            "args": [
             null,
             {
              "frame": {
               "duration": 1000,
               "redraw": false
              }
             }
            ],
            "label": "&#9654;",
            "method": "animate"
           },
           {
            "args": [
             null,
             {
              "frame": {
               "duration": 1000,
               "redraw": false
              }
             }
            ],
            "label": "&#9724;",
            "method": "animate"
           }
          ],
          "direction": "left",
          "pad": {
           "r": 10,
           "t": 70
          },
          "showactive": false,
          "type": "buttons",
          "x": 0.1,
          "xanchor": "right",
          "y": 0,
          "yanchor": "top"
         }
        ],
        "xaxis": {
         "anchor": "y",
         "categoryarray": [
          0,
          1,
          2,
          3,
          4,
          5,
          6,
          7,
          8
         ],
         "categoryorder": "array",
         "domain": [
          0,
          1
         ],
         "range": [
          -1,
          9
         ],
         "tickmode": "array",
         "ticktext": [
          "Start of<br>Preliminary",
          "Mid<br>Preliminary",
          "End of<br>Preliminary",
          "Start of<br>Midterms",
          "Mid<br>Midterms",
          "End of<br>Midterms",
          "Start of<br>Pre-Finals",
          "Mid<br>Pre-Finals",
          "End of<br>Pre-Finals"
         ],
         "tickvals": [
          0,
          1,
          2,
          3,
          4,
          5,
          6,
          7,
          8
         ],
         "title": {
          "text": " "
         }
        },
        "yaxis": {
         "anchor": "x",
         "domain": [
          0,
          1
         ],
         "range": [
          -1,
          12
         ],
         "tickmode": "array",
         "ticktext": [
          " ",
          "Low",
          " ",
          " ",
          " Mid",
          " ",
          " ",
          "High",
          " "
         ],
         "tickvals": [
          1,
          3,
          4,
          5,
          6,
          7,
          8,
          9,
          10
         ],
         "title": {
          "font": {
           "size": 15
          },
          "text": "<br><br>Emotion Degree<br>"
         }
        }
       }
      },
      "text/html": [
       "<div>                            <div id=\"5a9fff8c-cc07-46e5-8343-21d6f75874fe\" class=\"plotly-graph-div\" style=\"height:525px; width:100%;\"></div>            <script type=\"text/javascript\">                require([\"plotly\"], function(Plotly) {                    window.PLOTLYENV=window.PLOTLYENV || {};                                    if (document.getElementById(\"5a9fff8c-cc07-46e5-8343-21d6f75874fe\")) {                    Plotly.newPlot(                        \"5a9fff8c-cc07-46e5-8343-21d6f75874fe\",                        [{\"customdata\":[[\"Amusement\",10]],\"hovertemplate\":\"emotional_response=Amusement<br>period=%{x}<br>emotional_degree=%{y}<br>assignment=%{marker.size}<extra></extra>\",\"legendgroup\":\"Amusement\",\"marker\":{\"color\":\"#636efa\",\"size\":[10],\"sizemode\":\"area\",\"sizeref\":0.011851851851851851,\"symbol\":\"circle\"},\"mode\":\"markers\",\"name\":\"Amusement\",\"orientation\":\"v\",\"showlegend\":true,\"x\":[0],\"xaxis\":\"x\",\"y\":[10],\"yaxis\":\"y\",\"type\":\"scatter\"},{\"customdata\":[[\"Stress\",10]],\"hovertemplate\":\"emotional_response=Stress<br>period=%{x}<br>emotional_degree=%{y}<br>assignment=%{marker.size}<extra></extra>\",\"legendgroup\":\"Stress\",\"marker\":{\"color\":\"#EF553B\",\"size\":[10],\"sizemode\":\"area\",\"sizeref\":0.011851851851851851,\"symbol\":\"circle\"},\"mode\":\"markers\",\"name\":\"Stress\",\"orientation\":\"v\",\"showlegend\":true,\"x\":[0],\"xaxis\":\"x\",\"y\":[3],\"yaxis\":\"y\",\"type\":\"scatter\"},{\"customdata\":[[\"Productivity\",10]],\"hovertemplate\":\"emotional_response=Productivity<br>period=%{x}<br>emotional_degree=%{y}<br>assignment=%{marker.size}<extra></extra>\",\"legendgroup\":\"Productivity\",\"marker\":{\"color\":\"#00cc96\",\"size\":[10],\"sizemode\":\"area\",\"sizeref\":0.011851851851851851,\"symbol\":\"circle\"},\"mode\":\"markers\",\"name\":\"Productivity\",\"orientation\":\"v\",\"showlegend\":true,\"x\":[0],\"xaxis\":\"x\",\"y\":[8],\"yaxis\":\"y\",\"type\":\"scatter\"}],                        {\"template\":{\"data\":{\"barpolar\":[{\"marker\":{\"line\":{\"color\":\"white\",\"width\":0.5},\"pattern\":{\"fillmode\":\"overlay\",\"size\":10,\"solidity\":0.2}},\"type\":\"barpolar\"}],\"bar\":[{\"error_x\":{\"color\":\"#2a3f5f\"},\"error_y\":{\"color\":\"#2a3f5f\"},\"marker\":{\"line\":{\"color\":\"white\",\"width\":0.5},\"pattern\":{\"fillmode\":\"overlay\",\"size\":10,\"solidity\":0.2}},\"type\":\"bar\"}],\"carpet\":[{\"aaxis\":{\"endlinecolor\":\"#2a3f5f\",\"gridcolor\":\"#C8D4E3\",\"linecolor\":\"#C8D4E3\",\"minorgridcolor\":\"#C8D4E3\",\"startlinecolor\":\"#2a3f5f\"},\"baxis\":{\"endlinecolor\":\"#2a3f5f\",\"gridcolor\":\"#C8D4E3\",\"linecolor\":\"#C8D4E3\",\"minorgridcolor\":\"#C8D4E3\",\"startlinecolor\":\"#2a3f5f\"},\"type\":\"carpet\"}],\"choropleth\":[{\"colorbar\":{\"outlinewidth\":0,\"ticks\":\"\"},\"type\":\"choropleth\"}],\"contourcarpet\":[{\"colorbar\":{\"outlinewidth\":0,\"ticks\":\"\"},\"type\":\"contourcarpet\"}],\"contour\":[{\"colorbar\":{\"outlinewidth\":0,\"ticks\":\"\"},\"colorscale\":[[0.0,\"#0d0887\"],[0.1111111111111111,\"#46039f\"],[0.2222222222222222,\"#7201a8\"],[0.3333333333333333,\"#9c179e\"],[0.4444444444444444,\"#bd3786\"],[0.5555555555555556,\"#d8576b\"],[0.6666666666666666,\"#ed7953\"],[0.7777777777777778,\"#fb9f3a\"],[0.8888888888888888,\"#fdca26\"],[1.0,\"#f0f921\"]],\"type\":\"contour\"}],\"heatmapgl\":[{\"colorbar\":{\"outlinewidth\":0,\"ticks\":\"\"},\"colorscale\":[[0.0,\"#0d0887\"],[0.1111111111111111,\"#46039f\"],[0.2222222222222222,\"#7201a8\"],[0.3333333333333333,\"#9c179e\"],[0.4444444444444444,\"#bd3786\"],[0.5555555555555556,\"#d8576b\"],[0.6666666666666666,\"#ed7953\"],[0.7777777777777778,\"#fb9f3a\"],[0.8888888888888888,\"#fdca26\"],[1.0,\"#f0f921\"]],\"type\":\"heatmapgl\"}],\"heatmap\":[{\"colorbar\":{\"outlinewidth\":0,\"ticks\":\"\"},\"colorscale\":[[0.0,\"#0d0887\"],[0.1111111111111111,\"#46039f\"],[0.2222222222222222,\"#7201a8\"],[0.3333333333333333,\"#9c179e\"],[0.4444444444444444,\"#bd3786\"],[0.5555555555555556,\"#d8576b\"],[0.6666666666666666,\"#ed7953\"],[0.7777777777777778,\"#fb9f3a\"],[0.8888888888888888,\"#fdca26\"],[1.0,\"#f0f921\"]],\"type\":\"heatmap\"}],\"histogram2dcontour\":[{\"colorbar\":{\"outlinewidth\":0,\"ticks\":\"\"},\"colorscale\":[[0.0,\"#0d0887\"],[0.1111111111111111,\"#46039f\"],[0.2222222222222222,\"#7201a8\"],[0.3333333333333333,\"#9c179e\"],[0.4444444444444444,\"#bd3786\"],[0.5555555555555556,\"#d8576b\"],[0.6666666666666666,\"#ed7953\"],[0.7777777777777778,\"#fb9f3a\"],[0.8888888888888888,\"#fdca26\"],[1.0,\"#f0f921\"]],\"type\":\"histogram2dcontour\"}],\"histogram2d\":[{\"colorbar\":{\"outlinewidth\":0,\"ticks\":\"\"},\"colorscale\":[[0.0,\"#0d0887\"],[0.1111111111111111,\"#46039f\"],[0.2222222222222222,\"#7201a8\"],[0.3333333333333333,\"#9c179e\"],[0.4444444444444444,\"#bd3786\"],[0.5555555555555556,\"#d8576b\"],[0.6666666666666666,\"#ed7953\"],[0.7777777777777778,\"#fb9f3a\"],[0.8888888888888888,\"#fdca26\"],[1.0,\"#f0f921\"]],\"type\":\"histogram2d\"}],\"histogram\":[{\"marker\":{\"pattern\":{\"fillmode\":\"overlay\",\"size\":10,\"solidity\":0.2}},\"type\":\"histogram\"}],\"mesh3d\":[{\"colorbar\":{\"outlinewidth\":0,\"ticks\":\"\"},\"type\":\"mesh3d\"}],\"parcoords\":[{\"line\":{\"colorbar\":{\"outlinewidth\":0,\"ticks\":\"\"}},\"type\":\"parcoords\"}],\"pie\":[{\"automargin\":true,\"type\":\"pie\"}],\"scatter3d\":[{\"line\":{\"colorbar\":{\"outlinewidth\":0,\"ticks\":\"\"}},\"marker\":{\"colorbar\":{\"outlinewidth\":0,\"ticks\":\"\"}},\"type\":\"scatter3d\"}],\"scattercarpet\":[{\"marker\":{\"colorbar\":{\"outlinewidth\":0,\"ticks\":\"\"}},\"type\":\"scattercarpet\"}],\"scattergeo\":[{\"marker\":{\"colorbar\":{\"outlinewidth\":0,\"ticks\":\"\"}},\"type\":\"scattergeo\"}],\"scattergl\":[{\"marker\":{\"colorbar\":{\"outlinewidth\":0,\"ticks\":\"\"}},\"type\":\"scattergl\"}],\"scattermapbox\":[{\"marker\":{\"colorbar\":{\"outlinewidth\":0,\"ticks\":\"\"}},\"type\":\"scattermapbox\"}],\"scatterpolargl\":[{\"marker\":{\"colorbar\":{\"outlinewidth\":0,\"ticks\":\"\"}},\"type\":\"scatterpolargl\"}],\"scatterpolar\":[{\"marker\":{\"colorbar\":{\"outlinewidth\":0,\"ticks\":\"\"}},\"type\":\"scatterpolar\"}],\"scatter\":[{\"marker\":{\"colorbar\":{\"outlinewidth\":0,\"ticks\":\"\"}},\"type\":\"scatter\"}],\"scatterternary\":[{\"marker\":{\"colorbar\":{\"outlinewidth\":0,\"ticks\":\"\"}},\"type\":\"scatterternary\"}],\"surface\":[{\"colorbar\":{\"outlinewidth\":0,\"ticks\":\"\"},\"colorscale\":[[0.0,\"#0d0887\"],[0.1111111111111111,\"#46039f\"],[0.2222222222222222,\"#7201a8\"],[0.3333333333333333,\"#9c179e\"],[0.4444444444444444,\"#bd3786\"],[0.5555555555555556,\"#d8576b\"],[0.6666666666666666,\"#ed7953\"],[0.7777777777777778,\"#fb9f3a\"],[0.8888888888888888,\"#fdca26\"],[1.0,\"#f0f921\"]],\"type\":\"surface\"}],\"table\":[{\"cells\":{\"fill\":{\"color\":\"#EBF0F8\"},\"line\":{\"color\":\"white\"}},\"header\":{\"fill\":{\"color\":\"#C8D4E3\"},\"line\":{\"color\":\"white\"}},\"type\":\"table\"}]},\"layout\":{\"annotationdefaults\":{\"arrowcolor\":\"#2a3f5f\",\"arrowhead\":0,\"arrowwidth\":1},\"autotypenumbers\":\"strict\",\"coloraxis\":{\"colorbar\":{\"outlinewidth\":0,\"ticks\":\"\"}},\"colorscale\":{\"diverging\":[[0,\"#8e0152\"],[0.1,\"#c51b7d\"],[0.2,\"#de77ae\"],[0.3,\"#f1b6da\"],[0.4,\"#fde0ef\"],[0.5,\"#f7f7f7\"],[0.6,\"#e6f5d0\"],[0.7,\"#b8e186\"],[0.8,\"#7fbc41\"],[0.9,\"#4d9221\"],[1,\"#276419\"]],\"sequential\":[[0.0,\"#0d0887\"],[0.1111111111111111,\"#46039f\"],[0.2222222222222222,\"#7201a8\"],[0.3333333333333333,\"#9c179e\"],[0.4444444444444444,\"#bd3786\"],[0.5555555555555556,\"#d8576b\"],[0.6666666666666666,\"#ed7953\"],[0.7777777777777778,\"#fb9f3a\"],[0.8888888888888888,\"#fdca26\"],[1.0,\"#f0f921\"]],\"sequentialminus\":[[0.0,\"#0d0887\"],[0.1111111111111111,\"#46039f\"],[0.2222222222222222,\"#7201a8\"],[0.3333333333333333,\"#9c179e\"],[0.4444444444444444,\"#bd3786\"],[0.5555555555555556,\"#d8576b\"],[0.6666666666666666,\"#ed7953\"],[0.7777777777777778,\"#fb9f3a\"],[0.8888888888888888,\"#fdca26\"],[1.0,\"#f0f921\"]]},\"colorway\":[\"#636efa\",\"#EF553B\",\"#00cc96\",\"#ab63fa\",\"#FFA15A\",\"#19d3f3\",\"#FF6692\",\"#B6E880\",\"#FF97FF\",\"#FECB52\"],\"font\":{\"color\":\"#2a3f5f\"},\"geo\":{\"bgcolor\":\"white\",\"lakecolor\":\"white\",\"landcolor\":\"white\",\"showlakes\":true,\"showland\":true,\"subunitcolor\":\"#C8D4E3\"},\"hoverlabel\":{\"align\":\"left\"},\"hovermode\":\"closest\",\"mapbox\":{\"style\":\"light\"},\"paper_bgcolor\":\"white\",\"plot_bgcolor\":\"white\",\"polar\":{\"angularaxis\":{\"gridcolor\":\"#EBF0F8\",\"linecolor\":\"#EBF0F8\",\"ticks\":\"\"},\"bgcolor\":\"white\",\"radialaxis\":{\"gridcolor\":\"#EBF0F8\",\"linecolor\":\"#EBF0F8\",\"ticks\":\"\"}},\"scene\":{\"xaxis\":{\"backgroundcolor\":\"white\",\"gridcolor\":\"#DFE8F3\",\"gridwidth\":2,\"linecolor\":\"#EBF0F8\",\"showbackground\":true,\"ticks\":\"\",\"zerolinecolor\":\"#EBF0F8\"},\"yaxis\":{\"backgroundcolor\":\"white\",\"gridcolor\":\"#DFE8F3\",\"gridwidth\":2,\"linecolor\":\"#EBF0F8\",\"showbackground\":true,\"ticks\":\"\",\"zerolinecolor\":\"#EBF0F8\"},\"zaxis\":{\"backgroundcolor\":\"white\",\"gridcolor\":\"#DFE8F3\",\"gridwidth\":2,\"linecolor\":\"#EBF0F8\",\"showbackground\":true,\"ticks\":\"\",\"zerolinecolor\":\"#EBF0F8\"}},\"shapedefaults\":{\"line\":{\"color\":\"#2a3f5f\"}},\"ternary\":{\"aaxis\":{\"gridcolor\":\"#DFE8F3\",\"linecolor\":\"#A2B1C6\",\"ticks\":\"\"},\"baxis\":{\"gridcolor\":\"#DFE8F3\",\"linecolor\":\"#A2B1C6\",\"ticks\":\"\"},\"bgcolor\":\"white\",\"caxis\":{\"gridcolor\":\"#DFE8F3\",\"linecolor\":\"#A2B1C6\",\"ticks\":\"\"}},\"title\":{\"x\":0.05},\"xaxis\":{\"automargin\":true,\"gridcolor\":\"#EBF0F8\",\"linecolor\":\"#EBF0F8\",\"ticks\":\"\",\"title\":{\"standoff\":15},\"zerolinecolor\":\"#EBF0F8\",\"zerolinewidth\":2},\"yaxis\":{\"automargin\":true,\"gridcolor\":\"#EBF0F8\",\"linecolor\":\"#EBF0F8\",\"ticks\":\"\",\"title\":{\"standoff\":15},\"zerolinecolor\":\"#EBF0F8\",\"zerolinewidth\":2}}},\"xaxis\":{\"anchor\":\"y\",\"domain\":[0.0,1.0],\"title\":{\"text\":\" \"},\"range\":[-1,9],\"categoryorder\":\"array\",\"categoryarray\":[0,1,2,3,4,5,6,7,8],\"tickmode\":\"array\",\"tickvals\":[0,1,2,3,4,5,6,7,8],\"ticktext\":[\"Start of<br>Preliminary\",\"Mid<br>Preliminary\",\"End of<br>Preliminary\",\"Start of<br>Midterms\",\"Mid<br>Midterms\",\"End of<br>Midterms\",\"Start of<br>Pre-Finals\",\"Mid<br>Pre-Finals\",\"End of<br>Pre-Finals\"]},\"yaxis\":{\"anchor\":\"x\",\"domain\":[0.0,1.0],\"title\":{\"text\":\"<br><br>Emotion Degree<br>\",\"font\":{\"size\":15}},\"range\":[-1,12],\"tickmode\":\"array\",\"tickvals\":[1,3,4,5,6,7,8,9,10],\"ticktext\":[\" \",\"Low\",\" \",\" \",\" Mid\",\" \",\" \",\"High\",\" \"]},\"legend\":{\"title\":{\"text\":\"Emotional Response\"},\"tracegroupgap\":0,\"itemsizing\":\"constant\",\"orientation\":\"h\",\"yanchor\":\"bottom\",\"xanchor\":\"center\",\"y\":1,\"x\":0.5},\"margin\":{\"t\":60},\"updatemenus\":[{\"buttons\":[{\"args\":[null,{\"frame\":{\"duration\":1000,\"redraw\":false}}],\"label\":\"&#9654;\",\"method\":\"animate\"},{\"args\":[null,{\"frame\":{\"duration\":1000,\"redraw\":false}}],\"label\":\"&#9724;\",\"method\":\"animate\"}],\"direction\":\"left\",\"pad\":{\"r\":10,\"t\":70},\"showactive\":false,\"type\":\"buttons\",\"x\":0.1,\"xanchor\":\"right\",\"y\":0,\"yanchor\":\"top\"}],\"sliders\":[{\"active\":0,\"currentvalue\":{\"prefix\":\"period=\"},\"len\":0.9,\"pad\":{\"b\":10,\"t\":60},\"steps\":[{\"args\":[[\"0\"],{\"frame\":{\"duration\":0,\"redraw\":false},\"mode\":\"immediate\",\"fromcurrent\":true,\"transition\":{\"duration\":0,\"easing\":\"linear\"}}],\"label\":\"0\",\"method\":\"animate\"},{\"args\":[[\"1\"],{\"frame\":{\"duration\":0,\"redraw\":false},\"mode\":\"immediate\",\"fromcurrent\":true,\"transition\":{\"duration\":0,\"easing\":\"linear\"}}],\"label\":\"1\",\"method\":\"animate\"},{\"args\":[[\"2\"],{\"frame\":{\"duration\":0,\"redraw\":false},\"mode\":\"immediate\",\"fromcurrent\":true,\"transition\":{\"duration\":0,\"easing\":\"linear\"}}],\"label\":\"2\",\"method\":\"animate\"},{\"args\":[[\"3\"],{\"frame\":{\"duration\":0,\"redraw\":false},\"mode\":\"immediate\",\"fromcurrent\":true,\"transition\":{\"duration\":0,\"easing\":\"linear\"}}],\"label\":\"3\",\"method\":\"animate\"},{\"args\":[[\"4\"],{\"frame\":{\"duration\":0,\"redraw\":false},\"mode\":\"immediate\",\"fromcurrent\":true,\"transition\":{\"duration\":0,\"easing\":\"linear\"}}],\"label\":\"4\",\"method\":\"animate\"},{\"args\":[[\"5\"],{\"frame\":{\"duration\":0,\"redraw\":false},\"mode\":\"immediate\",\"fromcurrent\":true,\"transition\":{\"duration\":0,\"easing\":\"linear\"}}],\"label\":\"5\",\"method\":\"animate\"},{\"args\":[[\"6\"],{\"frame\":{\"duration\":0,\"redraw\":false},\"mode\":\"immediate\",\"fromcurrent\":true,\"transition\":{\"duration\":0,\"easing\":\"linear\"}}],\"label\":\"6\",\"method\":\"animate\"},{\"args\":[[\"7\"],{\"frame\":{\"duration\":0,\"redraw\":false},\"mode\":\"immediate\",\"fromcurrent\":true,\"transition\":{\"duration\":0,\"easing\":\"linear\"}}],\"label\":\"7\",\"method\":\"animate\"},{\"args\":[[\"8\"],{\"frame\":{\"duration\":0,\"redraw\":false},\"mode\":\"immediate\",\"fromcurrent\":true,\"transition\":{\"duration\":0,\"easing\":\"linear\"}}],\"label\":\"8\",\"method\":\"animate\"}],\"x\":0.1,\"xanchor\":\"left\",\"y\":0,\"yanchor\":\"top\"}]},                        {\"responsive\": true}                    ).then(function(){\n",
       "                            Plotly.addFrames('5a9fff8c-cc07-46e5-8343-21d6f75874fe', [{\"data\":[{\"customdata\":[[\"Amusement\",10]],\"hovertemplate\":\"emotional_response=Amusement<br>period=%{x}<br>emotional_degree=%{y}<br>assignment=%{marker.size}<extra></extra>\",\"legendgroup\":\"Amusement\",\"marker\":{\"color\":\"#636efa\",\"size\":[10],\"sizemode\":\"area\",\"sizeref\":0.011851851851851851,\"symbol\":\"circle\"},\"mode\":\"markers\",\"name\":\"Amusement\",\"orientation\":\"v\",\"showlegend\":true,\"x\":[0],\"xaxis\":\"x\",\"y\":[10],\"yaxis\":\"y\",\"type\":\"scatter\"},{\"customdata\":[[\"Stress\",10]],\"hovertemplate\":\"emotional_response=Stress<br>period=%{x}<br>emotional_degree=%{y}<br>assignment=%{marker.size}<extra></extra>\",\"legendgroup\":\"Stress\",\"marker\":{\"color\":\"#EF553B\",\"size\":[10],\"sizemode\":\"area\",\"sizeref\":0.011851851851851851,\"symbol\":\"circle\"},\"mode\":\"markers\",\"name\":\"Stress\",\"orientation\":\"v\",\"showlegend\":true,\"x\":[0],\"xaxis\":\"x\",\"y\":[3],\"yaxis\":\"y\",\"type\":\"scatter\"},{\"customdata\":[[\"Productivity\",10]],\"hovertemplate\":\"emotional_response=Productivity<br>period=%{x}<br>emotional_degree=%{y}<br>assignment=%{marker.size}<extra></extra>\",\"legendgroup\":\"Productivity\",\"marker\":{\"color\":\"#00cc96\",\"size\":[10],\"sizemode\":\"area\",\"sizeref\":0.011851851851851851,\"symbol\":\"circle\"},\"mode\":\"markers\",\"name\":\"Productivity\",\"orientation\":\"v\",\"showlegend\":true,\"x\":[0],\"xaxis\":\"x\",\"y\":[8],\"yaxis\":\"y\",\"type\":\"scatter\"}],\"name\":\"0\"},{\"data\":[{\"customdata\":[[\"Amusement\",13]],\"hovertemplate\":\"emotional_response=Amusement<br>period=%{x}<br>emotional_degree=%{y}<br>assignment=%{marker.size}<extra></extra>\",\"legendgroup\":\"Amusement\",\"marker\":{\"color\":\"#636efa\",\"size\":[13],\"sizemode\":\"area\",\"sizeref\":0.011851851851851851,\"symbol\":\"circle\"},\"mode\":\"markers\",\"name\":\"Amusement\",\"orientation\":\"v\",\"showlegend\":true,\"x\":[1],\"xaxis\":\"x\",\"y\":[4],\"yaxis\":\"y\",\"type\":\"scatter\"},{\"customdata\":[[\"Stress\",13]],\"hovertemplate\":\"emotional_response=Stress<br>period=%{x}<br>emotional_degree=%{y}<br>assignment=%{marker.size}<extra></extra>\",\"legendgroup\":\"Stress\",\"marker\":{\"color\":\"#EF553B\",\"size\":[13],\"sizemode\":\"area\",\"sizeref\":0.011851851851851851,\"symbol\":\"circle\"},\"mode\":\"markers\",\"name\":\"Stress\",\"orientation\":\"v\",\"showlegend\":true,\"x\":[1],\"xaxis\":\"x\",\"y\":[9],\"yaxis\":\"y\",\"type\":\"scatter\"},{\"customdata\":[[\"Productivity\",13]],\"hovertemplate\":\"emotional_response=Productivity<br>period=%{x}<br>emotional_degree=%{y}<br>assignment=%{marker.size}<extra></extra>\",\"legendgroup\":\"Productivity\",\"marker\":{\"color\":\"#00cc96\",\"size\":[13],\"sizemode\":\"area\",\"sizeref\":0.011851851851851851,\"symbol\":\"circle\"},\"mode\":\"markers\",\"name\":\"Productivity\",\"orientation\":\"v\",\"showlegend\":true,\"x\":[1],\"xaxis\":\"x\",\"y\":[8],\"yaxis\":\"y\",\"type\":\"scatter\"}],\"name\":\"1\"},{\"data\":[{\"customdata\":[[\"Amusement\",24]],\"hovertemplate\":\"emotional_response=Amusement<br>period=%{x}<br>emotional_degree=%{y}<br>assignment=%{marker.size}<extra></extra>\",\"legendgroup\":\"Amusement\",\"marker\":{\"color\":\"#636efa\",\"size\":[24],\"sizemode\":\"area\",\"sizeref\":0.011851851851851851,\"symbol\":\"circle\"},\"mode\":\"markers\",\"name\":\"Amusement\",\"orientation\":\"v\",\"showlegend\":true,\"x\":[2],\"xaxis\":\"x\",\"y\":[1],\"yaxis\":\"y\",\"type\":\"scatter\"},{\"customdata\":[[\"Stress\",24]],\"hovertemplate\":\"emotional_response=Stress<br>period=%{x}<br>emotional_degree=%{y}<br>assignment=%{marker.size}<extra></extra>\",\"legendgroup\":\"Stress\",\"marker\":{\"color\":\"#EF553B\",\"size\":[24],\"sizemode\":\"area\",\"sizeref\":0.011851851851851851,\"symbol\":\"circle\"},\"mode\":\"markers\",\"name\":\"Stress\",\"orientation\":\"v\",\"showlegend\":true,\"x\":[2],\"xaxis\":\"x\",\"y\":[10],\"yaxis\":\"y\",\"type\":\"scatter\"},{\"customdata\":[[\"Productivity\",24]],\"hovertemplate\":\"emotional_response=Productivity<br>period=%{x}<br>emotional_degree=%{y}<br>assignment=%{marker.size}<extra></extra>\",\"legendgroup\":\"Productivity\",\"marker\":{\"color\":\"#00cc96\",\"size\":[24],\"sizemode\":\"area\",\"sizeref\":0.011851851851851851,\"symbol\":\"circle\"},\"mode\":\"markers\",\"name\":\"Productivity\",\"orientation\":\"v\",\"showlegend\":true,\"x\":[2],\"xaxis\":\"x\",\"y\":[9],\"yaxis\":\"y\",\"type\":\"scatter\"}],\"name\":\"2\"},{\"data\":[{\"customdata\":[[\"Amusement\",8]],\"hovertemplate\":\"emotional_response=Amusement<br>period=%{x}<br>emotional_degree=%{y}<br>assignment=%{marker.size}<extra></extra>\",\"legendgroup\":\"Amusement\",\"marker\":{\"color\":\"#636efa\",\"size\":[8],\"sizemode\":\"area\",\"sizeref\":0.011851851851851851,\"symbol\":\"circle\"},\"mode\":\"markers\",\"name\":\"Amusement\",\"orientation\":\"v\",\"showlegend\":true,\"x\":[3],\"xaxis\":\"x\",\"y\":[6],\"yaxis\":\"y\",\"type\":\"scatter\"},{\"customdata\":[[\"Stress\",8]],\"hovertemplate\":\"emotional_response=Stress<br>period=%{x}<br>emotional_degree=%{y}<br>assignment=%{marker.size}<extra></extra>\",\"legendgroup\":\"Stress\",\"marker\":{\"color\":\"#EF553B\",\"size\":[8],\"sizemode\":\"area\",\"sizeref\":0.011851851851851851,\"symbol\":\"circle\"},\"mode\":\"markers\",\"name\":\"Stress\",\"orientation\":\"v\",\"showlegend\":true,\"x\":[3],\"xaxis\":\"x\",\"y\":[3],\"yaxis\":\"y\",\"type\":\"scatter\"},{\"customdata\":[[\"Productivity\",8]],\"hovertemplate\":\"emotional_response=Productivity<br>period=%{x}<br>emotional_degree=%{y}<br>assignment=%{marker.size}<extra></extra>\",\"legendgroup\":\"Productivity\",\"marker\":{\"color\":\"#00cc96\",\"size\":[8],\"sizemode\":\"area\",\"sizeref\":0.011851851851851851,\"symbol\":\"circle\"},\"mode\":\"markers\",\"name\":\"Productivity\",\"orientation\":\"v\",\"showlegend\":true,\"x\":[3],\"xaxis\":\"x\",\"y\":[5],\"yaxis\":\"y\",\"type\":\"scatter\"}],\"name\":\"3\"},{\"data\":[{\"customdata\":[[\"Amusement\",6]],\"hovertemplate\":\"emotional_response=Amusement<br>period=%{x}<br>emotional_degree=%{y}<br>assignment=%{marker.size}<extra></extra>\",\"legendgroup\":\"Amusement\",\"marker\":{\"color\":\"#636efa\",\"size\":[6],\"sizemode\":\"area\",\"sizeref\":0.011851851851851851,\"symbol\":\"circle\"},\"mode\":\"markers\",\"name\":\"Amusement\",\"orientation\":\"v\",\"showlegend\":true,\"x\":[4],\"xaxis\":\"x\",\"y\":[7],\"yaxis\":\"y\",\"type\":\"scatter\"},{\"customdata\":[[\"Stress\",6]],\"hovertemplate\":\"emotional_response=Stress<br>period=%{x}<br>emotional_degree=%{y}<br>assignment=%{marker.size}<extra></extra>\",\"legendgroup\":\"Stress\",\"marker\":{\"color\":\"#EF553B\",\"size\":[6],\"sizemode\":\"area\",\"sizeref\":0.011851851851851851,\"symbol\":\"circle\"},\"mode\":\"markers\",\"name\":\"Stress\",\"orientation\":\"v\",\"showlegend\":true,\"x\":[4],\"xaxis\":\"x\",\"y\":[1],\"yaxis\":\"y\",\"type\":\"scatter\"},{\"customdata\":[[\"Productivity\",6]],\"hovertemplate\":\"emotional_response=Productivity<br>period=%{x}<br>emotional_degree=%{y}<br>assignment=%{marker.size}<extra></extra>\",\"legendgroup\":\"Productivity\",\"marker\":{\"color\":\"#00cc96\",\"size\":[6],\"sizemode\":\"area\",\"sizeref\":0.011851851851851851,\"symbol\":\"circle\"},\"mode\":\"markers\",\"name\":\"Productivity\",\"orientation\":\"v\",\"showlegend\":true,\"x\":[4],\"xaxis\":\"x\",\"y\":[4],\"yaxis\":\"y\",\"type\":\"scatter\"}],\"name\":\"4\"},{\"data\":[{\"customdata\":[[\"Amusement\",12]],\"hovertemplate\":\"emotional_response=Amusement<br>period=%{x}<br>emotional_degree=%{y}<br>assignment=%{marker.size}<extra></extra>\",\"legendgroup\":\"Amusement\",\"marker\":{\"color\":\"#636efa\",\"size\":[12],\"sizemode\":\"area\",\"sizeref\":0.011851851851851851,\"symbol\":\"circle\"},\"mode\":\"markers\",\"name\":\"Amusement\",\"orientation\":\"v\",\"showlegend\":true,\"x\":[5],\"xaxis\":\"x\",\"y\":[7],\"yaxis\":\"y\",\"type\":\"scatter\"},{\"customdata\":[[\"Stress\",12]],\"hovertemplate\":\"emotional_response=Stress<br>period=%{x}<br>emotional_degree=%{y}<br>assignment=%{marker.size}<extra></extra>\",\"legendgroup\":\"Stress\",\"marker\":{\"color\":\"#EF553B\",\"size\":[12],\"sizemode\":\"area\",\"sizeref\":0.011851851851851851,\"symbol\":\"circle\"},\"mode\":\"markers\",\"name\":\"Stress\",\"orientation\":\"v\",\"showlegend\":true,\"x\":[5],\"xaxis\":\"x\",\"y\":[4],\"yaxis\":\"y\",\"type\":\"scatter\"},{\"customdata\":[[\"Productivity\",12]],\"hovertemplate\":\"emotional_response=Productivity<br>period=%{x}<br>emotional_degree=%{y}<br>assignment=%{marker.size}<extra></extra>\",\"legendgroup\":\"Productivity\",\"marker\":{\"color\":\"#00cc96\",\"size\":[12],\"sizemode\":\"area\",\"sizeref\":0.011851851851851851,\"symbol\":\"circle\"},\"mode\":\"markers\",\"name\":\"Productivity\",\"orientation\":\"v\",\"showlegend\":true,\"x\":[5],\"xaxis\":\"x\",\"y\":[8],\"yaxis\":\"y\",\"type\":\"scatter\"}],\"name\":\"5\"},{\"data\":[{\"customdata\":[[\"Amusement\",14]],\"hovertemplate\":\"emotional_response=Amusement<br>period=%{x}<br>emotional_degree=%{y}<br>assignment=%{marker.size}<extra></extra>\",\"legendgroup\":\"Amusement\",\"marker\":{\"color\":\"#636efa\",\"size\":[14],\"sizemode\":\"area\",\"sizeref\":0.011851851851851851,\"symbol\":\"circle\"},\"mode\":\"markers\",\"name\":\"Amusement\",\"orientation\":\"v\",\"showlegend\":true,\"x\":[6],\"xaxis\":\"x\",\"y\":[8],\"yaxis\":\"y\",\"type\":\"scatter\"},{\"customdata\":[[\"Stress\",14]],\"hovertemplate\":\"emotional_response=Stress<br>period=%{x}<br>emotional_degree=%{y}<br>assignment=%{marker.size}<extra></extra>\",\"legendgroup\":\"Stress\",\"marker\":{\"color\":\"#EF553B\",\"size\":[14],\"sizemode\":\"area\",\"sizeref\":0.011851851851851851,\"symbol\":\"circle\"},\"mode\":\"markers\",\"name\":\"Stress\",\"orientation\":\"v\",\"showlegend\":true,\"x\":[6],\"xaxis\":\"x\",\"y\":[7],\"yaxis\":\"y\",\"type\":\"scatter\"},{\"customdata\":[[\"Productivity\",14]],\"hovertemplate\":\"emotional_response=Productivity<br>period=%{x}<br>emotional_degree=%{y}<br>assignment=%{marker.size}<extra></extra>\",\"legendgroup\":\"Productivity\",\"marker\":{\"color\":\"#00cc96\",\"size\":[14],\"sizemode\":\"area\",\"sizeref\":0.011851851851851851,\"symbol\":\"circle\"},\"mode\":\"markers\",\"name\":\"Productivity\",\"orientation\":\"v\",\"showlegend\":true,\"x\":[6],\"xaxis\":\"x\",\"y\":[6],\"yaxis\":\"y\",\"type\":\"scatter\"}],\"name\":\"6\"},{\"data\":[{\"customdata\":[[\"Amusement\",8]],\"hovertemplate\":\"emotional_response=Amusement<br>period=%{x}<br>emotional_degree=%{y}<br>assignment=%{marker.size}<extra></extra>\",\"legendgroup\":\"Amusement\",\"marker\":{\"color\":\"#636efa\",\"size\":[8],\"sizemode\":\"area\",\"sizeref\":0.011851851851851851,\"symbol\":\"circle\"},\"mode\":\"markers\",\"name\":\"Amusement\",\"orientation\":\"v\",\"showlegend\":true,\"x\":[7],\"xaxis\":\"x\",\"y\":[6],\"yaxis\":\"y\",\"type\":\"scatter\"},{\"customdata\":[[\"Stress\",8]],\"hovertemplate\":\"emotional_response=Stress<br>period=%{x}<br>emotional_degree=%{y}<br>assignment=%{marker.size}<extra></extra>\",\"legendgroup\":\"Stress\",\"marker\":{\"color\":\"#EF553B\",\"size\":[8],\"sizemode\":\"area\",\"sizeref\":0.011851851851851851,\"symbol\":\"circle\"},\"mode\":\"markers\",\"name\":\"Stress\",\"orientation\":\"v\",\"showlegend\":true,\"x\":[7],\"xaxis\":\"x\",\"y\":[8],\"yaxis\":\"y\",\"type\":\"scatter\"},{\"customdata\":[[\"Productivity\",8]],\"hovertemplate\":\"emotional_response=Productivity<br>period=%{x}<br>emotional_degree=%{y}<br>assignment=%{marker.size}<extra></extra>\",\"legendgroup\":\"Productivity\",\"marker\":{\"color\":\"#00cc96\",\"size\":[8],\"sizemode\":\"area\",\"sizeref\":0.011851851851851851,\"symbol\":\"circle\"},\"mode\":\"markers\",\"name\":\"Productivity\",\"orientation\":\"v\",\"showlegend\":true,\"x\":[7],\"xaxis\":\"x\",\"y\":[10],\"yaxis\":\"y\",\"type\":\"scatter\"}],\"name\":\"7\"},{\"data\":[{\"customdata\":[[\"Amusement\",10]],\"hovertemplate\":\"emotional_response=Amusement<br>period=%{x}<br>emotional_degree=%{y}<br>assignment=%{marker.size}<extra></extra>\",\"legendgroup\":\"Amusement\",\"marker\":{\"color\":\"#636efa\",\"size\":[10],\"sizemode\":\"area\",\"sizeref\":0.011851851851851851,\"symbol\":\"circle\"},\"mode\":\"markers\",\"name\":\"Amusement\",\"orientation\":\"v\",\"showlegend\":true,\"x\":[8],\"xaxis\":\"x\",\"y\":[4],\"yaxis\":\"y\",\"type\":\"scatter\"},{\"customdata\":[[\"Stress\",10]],\"hovertemplate\":\"emotional_response=Stress<br>period=%{x}<br>emotional_degree=%{y}<br>assignment=%{marker.size}<extra></extra>\",\"legendgroup\":\"Stress\",\"marker\":{\"color\":\"#EF553B\",\"size\":[10],\"sizemode\":\"area\",\"sizeref\":0.011851851851851851,\"symbol\":\"circle\"},\"mode\":\"markers\",\"name\":\"Stress\",\"orientation\":\"v\",\"showlegend\":true,\"x\":[8],\"xaxis\":\"x\",\"y\":[8],\"yaxis\":\"y\",\"type\":\"scatter\"},{\"customdata\":[[\"Productivity\",10]],\"hovertemplate\":\"emotional_response=Productivity<br>period=%{x}<br>emotional_degree=%{y}<br>assignment=%{marker.size}<extra></extra>\",\"legendgroup\":\"Productivity\",\"marker\":{\"color\":\"#00cc96\",\"size\":[10],\"sizemode\":\"area\",\"sizeref\":0.011851851851851851,\"symbol\":\"circle\"},\"mode\":\"markers\",\"name\":\"Productivity\",\"orientation\":\"v\",\"showlegend\":true,\"x\":[8],\"xaxis\":\"x\",\"y\":[6],\"yaxis\":\"y\",\"type\":\"scatter\"}],\"name\":\"8\"}]);\n",
       "                        }).then(function(){\n",
       "                            \n",
       "var gd = document.getElementById('5a9fff8c-cc07-46e5-8343-21d6f75874fe');\n",
       "var x = new MutationObserver(function (mutations, observer) {{\n",
       "        var display = window.getComputedStyle(gd).display;\n",
       "        if (!display || display === 'none') {{\n",
       "            console.log([gd, 'removed!']);\n",
       "            Plotly.purge(gd);\n",
       "            observer.disconnect();\n",
       "        }}\n",
       "}});\n",
       "\n",
       "// Listen for the removal of the full notebook cells\n",
       "var notebookContainer = gd.closest('#notebook-container');\n",
       "if (notebookContainer) {{\n",
       "    x.observe(notebookContainer, {childList: true});\n",
       "}}\n",
       "\n",
       "// Listen for the clearing of the current output cell\n",
       "var outputEl = gd.closest('.output');\n",
       "if (outputEl) {{\n",
       "    x.observe(outputEl, {childList: true});\n",
       "}}\n",
       "\n",
       "                        })                };                });            </script>        </div>"
      ]
     },
     "metadata": {},
     "output_type": "display_data"
    }
   ],
   "source": [
    "fig = px.scatter(\n",
    "    data_frame = df,\n",
    "    x = 'period',\n",
    "    y = 'emotional_degree',\n",
    "    custom_data = ['emotional_response','assignment',],\n",
    "    color = 'emotional_response',\n",
    "    size = 'assignment',\n",
    "    animation_frame = 'period',\n",
    "    template = 'plotly_white',\n",
    "    range_x = [-1, 9],\n",
    "    range_y = [-1, 12],\n",
    "    size_max = 60,\n",
    ")\n",
    "\n",
    "fig.update_layout(\n",
    "    yaxis = dict(\n",
    "        title = dict(\n",
    "            text = '<br><br>Emotion Degree<br>',\n",
    "            font_size = 15,\n",
    "        ),\n",
    "        tickmode = 'array',\n",
    "        tickvals = df['emotional_degree'].sort_values().unique(),\n",
    "        ticktext = [' ', 'Low', ' ', ' ', ' Mid', ' ', ' ', 'High', ' ' ]\n",
    "    ),\n",
    "    xaxis = dict(\n",
    "        title = ' ',\n",
    "        tickmode = 'array',\n",
    "        tickvals = df['period'].sort_values().unique(),\n",
    "        ticktext = [\n",
    "            'Start of<br>Preliminary', \n",
    "            'Mid<br>Preliminary', \n",
    "            'End of<br>Preliminary', \n",
    "            'Start of<br>Midterms', \n",
    "            'Mid<br>Midterms', \n",
    "            'End of<br>Midterms', \n",
    "            'Start of<br>Pre-Finals', \n",
    "            'Mid<br>Pre-Finals', \n",
    "            'End of<br>Pre-Finals',\n",
    "        ]\n",
    "    ),\n",
    "    legend = dict(\n",
    "        title = 'Emotional Response',\n",
    "        orientation = 'h',\n",
    "        yanchor = 'bottom',\n",
    "        xanchor = 'center',\n",
    "        y = 1,\n",
    "        x = 0.5   \n",
    "    ),\n",
    "    updatemenus = [\n",
    "        dict(\n",
    "            type = 'buttons',\n",
    "            buttons = [dict(\n",
    "                method = 'animate',\n",
    "                args = [None, {\"frame\": {\"duration\": 1000, \"redraw\": False}}]\n",
    "            )]\n",
    "        )\n",
    "    ]\n",
    ")\n",
    "\n",
    "fig.show()"
   ]
  },
  {
   "cell_type": "code",
   "execution_count": 315,
   "metadata": {},
   "outputs": [],
   "source": [
    "fig.write_html('sem_ex_animated_plot.html')"
   ]
  }
 ],
 "metadata": {
  "interpreter": {
   "hash": "6b8a6e58ac7c32b1c8ab246be7c43cc3ee599025da1f8fa5c32148455ad35f52"
  },
  "kernelspec": {
   "display_name": "Python 3.9.7 ('custev')",
   "language": "python",
   "name": "python3"
  },
  "language_info": {
   "codemirror_mode": {
    "name": "ipython",
    "version": 3
   },
   "file_extension": ".py",
   "mimetype": "text/x-python",
   "name": "python",
   "nbconvert_exporter": "python",
   "pygments_lexer": "ipython3",
   "version": "3.9.7"
  },
  "orig_nbformat": 4
 },
 "nbformat": 4,
 "nbformat_minor": 2
}
